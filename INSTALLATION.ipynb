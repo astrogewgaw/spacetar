{
 "cells": [
  {
   "cell_type": "markdown",
   "metadata": {},
   "source": [
    "# Installation\n",
    "\n",
    "Since [**spacetar**][spacetar] isn't on PyPI yet, the best way to install it right now is:\n",
    "\n",
    "```bash\n",
    "git clone https://github.com/astrogewgaw/spacetar.git\n",
    "cd spacetar\n",
    "make install\n",
    "```\n",
    "\n",
    "If you don't have [**make**][make] installed, you can just substitute `pip install -e .` for the last command. The `-e` flag is optional, and installs the package in *development mode*; that is, any change you make to the code will show up in the installed package. If you don't want to mess around with the code, you can just remove the flag. If you have multiple Python installations on your system, it would be wise to subsitute `python -m pip install .` for the last step, where `python` is whichever Python you prefer to install [**spacetar**][spacetar] in. Note that it supports only Python 3.6 and above. A PyPI release is coming *soon*.\n",
    "\n",
    "[make]: https://www.gnu.org/software/make/\n",
    "[spacetar]: https://github.com/astrogewgaw/spacetar"
   ]
  }
 ],
 "metadata": {
  "kernelspec": {
   "display_name": "Python 3",
   "language": "python",
   "name": "python3"
  },
  "language_info": {
   "codemirror_mode": {
    "name": "ipython",
    "version": 3
   },
   "file_extension": ".py",
   "mimetype": "text/x-python",
   "name": "python",
   "nbconvert_exporter": "python",
   "pygments_lexer": "ipython3",
   "version": "3.8.5"
  }
 },
 "nbformat": 4,
 "nbformat_minor": 4
}
